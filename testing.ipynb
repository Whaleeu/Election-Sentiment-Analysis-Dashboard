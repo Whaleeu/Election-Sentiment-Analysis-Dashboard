{
 "cells": [
  {
   "cell_type": "code",
   "execution_count": 9,
   "metadata": {},
   "outputs": [],
   "source": [
    "from dotenv import load_dotenv\n",
    "import os\n",
    "from kafka import KafkaProducer, KafkaConsumer\n",
    "import pandas as pd \n",
    "import json\n",
    "from IPython.display import display\n",
    "pd.set_option('display.max_columns', 65)\n",
    "pd.set_option('display.max_rows', 100)\n",
    "from textblob import TextBlob\n",
    "from vaderSentiment.vaderSentiment import SentimentIntensityAnalyzer\n",
    "import time\n",
    "\n",
    "\n",
    "load_dotenv()\n",
    "token = os.environ.get(\"bearer_token\")\n",
    "\n",
    "def Consumer(Topic_name):\n",
    "    text_list = []\n",
    "    consume =  KafkaConsumer(Topic_name,bootstrap_servers=\"localhost:9092\",value_deserializer=lambda k : k.decode(\"utf-8\") )\n",
    "    for message in consume:\n",
    "        print(message)\n",
    "        output = json.loads(message.value)\n",
    "        print(type(output))\n",
    "        print(output[\"tweet\"])\n",
    "        blob = TextBlob(message.value[\"tweet\"])\n",
    "        pre = blob.sentiment.polarity\n",
    "        print(pre)\n",
    "        df = pd.DataFrame([{\"tweet\":message.value,\"sentiment\": pre,\"Candidate\": message.value[\"tag\"]}])\n",
    "        return df\n",
    "#Consumer(\"TutorialTopic\")"
   ]
  },
  {
   "cell_type": "code",
   "execution_count": 10,
   "metadata": {},
   "outputs": [
    {
     "name": "stdout",
     "output_type": "stream",
     "text": [
      "ConsumerRecord(topic='TutorialTopic', partition=0, offset=4796, timestamp=1663774621704, timestamp_type=0, key=None, value='{\\n  \"tweet\": \"Why is it only Touts and thugs that are supporting Tinubu for President,eg Oluomo,Kabaka Uzor Kalu and Uzodimma?\\\\ud83e\\\\udd14\",\\n  \"tag\": \"BAT\"\\n}', headers=[], checksum=None, serialized_key_size=-1, serialized_value_size=157, serialized_header_size=-1)\n",
      "<class 'dict'>\n",
      "Why is it only Touts and thugs that are supporting Tinubu for President,eg Oluomo,Kabaka Uzor Kalu and Uzodimma?🤔\n"
     ]
    },
    {
     "ename": "TypeError",
     "evalue": "string indices must be integers",
     "output_type": "error",
     "traceback": [
      "\u001b[1;31m---------------------------------------------------------------------------\u001b[0m",
      "\u001b[1;31mTypeError\u001b[0m                                 Traceback (most recent call last)",
      "Input \u001b[1;32mIn [10]\u001b[0m, in \u001b[0;36m<cell line: 2>\u001b[1;34m()\u001b[0m\n\u001b[0;32m      1\u001b[0m \u001b[38;5;28;01mwhile\u001b[39;00m \u001b[38;5;28;01mTrue\u001b[39;00m:\n\u001b[1;32m----> 2\u001b[0m     display(\u001b[43mConsumer\u001b[49m\u001b[43m(\u001b[49m\u001b[38;5;124;43m\"\u001b[39;49m\u001b[38;5;124;43mTutorialTopic\u001b[39;49m\u001b[38;5;124;43m\"\u001b[39;49m\u001b[43m)\u001b[49m)\n\u001b[0;32m      3\u001b[0m     time\u001b[38;5;241m.\u001b[39msleep(\u001b[38;5;241m5\u001b[39m)\n",
      "Input \u001b[1;32mIn [9]\u001b[0m, in \u001b[0;36mConsumer\u001b[1;34m(Topic_name)\u001b[0m\n\u001b[0;32m     23\u001b[0m \u001b[38;5;28mprint\u001b[39m(\u001b[38;5;28mtype\u001b[39m(output))\n\u001b[0;32m     24\u001b[0m \u001b[38;5;28mprint\u001b[39m(output[\u001b[38;5;124m\"\u001b[39m\u001b[38;5;124mtweet\u001b[39m\u001b[38;5;124m\"\u001b[39m])\n\u001b[1;32m---> 25\u001b[0m blob \u001b[38;5;241m=\u001b[39m TextBlob(\u001b[43mmessage\u001b[49m\u001b[38;5;241;43m.\u001b[39;49m\u001b[43mvalue\u001b[49m\u001b[43m[\u001b[49m\u001b[38;5;124;43m\"\u001b[39;49m\u001b[38;5;124;43mtweet\u001b[39;49m\u001b[38;5;124;43m\"\u001b[39;49m\u001b[43m]\u001b[49m)\n\u001b[0;32m     26\u001b[0m pre \u001b[38;5;241m=\u001b[39m blob\u001b[38;5;241m.\u001b[39msentiment\u001b[38;5;241m.\u001b[39mpolarity\n\u001b[0;32m     27\u001b[0m \u001b[38;5;28mprint\u001b[39m(pre)\n",
      "\u001b[1;31mTypeError\u001b[0m: string indices must be integers"
     ]
    }
   ],
   "source": [
    "while True:\n",
    "    display(Consumer(\"TutorialTopic\"))\n",
    "    time.sleep(5)"
   ]
  },
  {
   "cell_type": "markdown",
   "metadata": {},
   "source": []
  },
  {
   "cell_type": "code",
   "execution_count": 28,
   "metadata": {},
   "outputs": [
    {
     "name": "stdout",
     "output_type": "stream",
     "text": [
      "<class 'str'>\n",
      "{\n",
      "  \"tweet\": \"RT @iamUncleMark: Dear Ayu, please do not resign. We don't won't Wike in Atiku's campaign council. https://t.co/r5dsDFkWlx\",\n",
      "  \"tag\": \"ATK\"\n",
      "}\n"
     ]
    },
    {
     "ename": "TypeError",
     "evalue": "string indices must be integers",
     "output_type": "error",
     "traceback": [
      "\u001b[1;31m---------------------------------------------------------------------------\u001b[0m",
      "\u001b[1;31mTypeError\u001b[0m                                 Traceback (most recent call last)",
      "\u001b[1;32mc:\\Users\\waliulahi\\Election Sentiment Dashboard\\Election-Sentiment-Analysis-Dashboard\\testing.ipynb Cell 4\u001b[0m in \u001b[0;36m<cell line: 2>\u001b[1;34m()\u001b[0m\n\u001b[0;32m      <a href='vscode-notebook-cell:/c%3A/Users/waliulahi/Election%20Sentiment%20Dashboard/Election-Sentiment-Analysis-Dashboard/testing.ipynb#W2sZmlsZQ%3D%3D?line=0'>1</a>\u001b[0m \u001b[39mwhile\u001b[39;00m \u001b[39mTrue\u001b[39;00m:\n\u001b[1;32m----> <a href='vscode-notebook-cell:/c%3A/Users/waliulahi/Election%20Sentiment%20Dashboard/Election-Sentiment-Analysis-Dashboard/testing.ipynb#W2sZmlsZQ%3D%3D?line=1'>2</a>\u001b[0m     display(Consumer(\u001b[39m\"\u001b[39;49m\u001b[39mTutorialTopic\u001b[39;49m\u001b[39m\"\u001b[39;49m))\n\u001b[0;32m      <a href='vscode-notebook-cell:/c%3A/Users/waliulahi/Election%20Sentiment%20Dashboard/Election-Sentiment-Analysis-Dashboard/testing.ipynb#W2sZmlsZQ%3D%3D?line=2'>3</a>\u001b[0m     time\u001b[39m.\u001b[39msleep(\u001b[39m5\u001b[39m)\n",
      "\u001b[1;32mc:\\Users\\waliulahi\\Election Sentiment Dashboard\\Election-Sentiment-Analysis-Dashboard\\testing.ipynb Cell 4\u001b[0m in \u001b[0;36mConsumer\u001b[1;34m(Topic_name)\u001b[0m\n\u001b[0;32m     <a href='vscode-notebook-cell:/c%3A/Users/waliulahi/Election%20Sentiment%20Dashboard/Election-Sentiment-Analysis-Dashboard/testing.ipynb#W2sZmlsZQ%3D%3D?line=20'>21</a>\u001b[0m \u001b[39mprint\u001b[39m(\u001b[39mtype\u001b[39m(message\u001b[39m.\u001b[39mvalue))\n\u001b[0;32m     <a href='vscode-notebook-cell:/c%3A/Users/waliulahi/Election%20Sentiment%20Dashboard/Election-Sentiment-Analysis-Dashboard/testing.ipynb#W2sZmlsZQ%3D%3D?line=21'>22</a>\u001b[0m \u001b[39mprint\u001b[39m(message\u001b[39m.\u001b[39mvalue)\n\u001b[1;32m---> <a href='vscode-notebook-cell:/c%3A/Users/waliulahi/Election%20Sentiment%20Dashboard/Election-Sentiment-Analysis-Dashboard/testing.ipynb#W2sZmlsZQ%3D%3D?line=22'>23</a>\u001b[0m blob \u001b[39m=\u001b[39m TextBlob(message\u001b[39m.\u001b[39;49mvalue[\u001b[39m\"\u001b[39;49m\u001b[39mtweet\u001b[39;49m\u001b[39m\"\u001b[39;49m])\n\u001b[0;32m     <a href='vscode-notebook-cell:/c%3A/Users/waliulahi/Election%20Sentiment%20Dashboard/Election-Sentiment-Analysis-Dashboard/testing.ipynb#W2sZmlsZQ%3D%3D?line=23'>24</a>\u001b[0m pre \u001b[39m=\u001b[39m blob\u001b[39m.\u001b[39msentiment\u001b[39m.\u001b[39mpolarity\n\u001b[0;32m     <a href='vscode-notebook-cell:/c%3A/Users/waliulahi/Election%20Sentiment%20Dashboard/Election-Sentiment-Analysis-Dashboard/testing.ipynb#W2sZmlsZQ%3D%3D?line=24'>25</a>\u001b[0m \u001b[39mprint\u001b[39m(pre)\n",
      "\u001b[1;31mTypeError\u001b[0m: string indices must be integers"
     ]
    }
   ],
   "source": [
    "while True:\n",
    "    display(Consumer(\"TutorialTopic\"))\n",
    "    time.sleep(5)"
   ]
  },
  {
   "cell_type": "code",
   "execution_count": 1,
   "metadata": {},
   "outputs": [],
   "source": [
    "from vaderSentiment.vaderSentiment import SentimentIntensityAnalyzer"
   ]
  },
  {
   "cell_type": "code",
   "execution_count": 18,
   "metadata": {},
   "outputs": [
    {
     "data": {
      "text/plain": [
       "-0.2787"
      ]
     },
     "execution_count": 18,
     "metadata": {},
     "output_type": "execute_result"
    }
   ],
   "source": [
    "sid_obj= SentimentIntensityAnalyzer()\n",
    "a = sid_obj.polarity_scores(\"PDP isn’t’t worried that INEC is getting compromised. PDP not worried that Tinubu has many skeleton in his cupboard. PDP not worried that Tinubu is refusing to have a media interview. PDP is banking on d 90% northerns that Atiku said are not on social media, to demarket @PeterObi\")\n",
    "a[\"compound\"]"
   ]
  },
  {
   "cell_type": "code",
   "execution_count": 62,
   "metadata": {},
   "outputs": [],
   "source": [
    "\n",
    "dic = {\n",
    "  \"tweet\": \"RT @Monnyx4: @Jack_ng01 Show me your friends and I will show you your future, you're who you hang out with. \\nThese are the kinds of people\\u2026\",\n",
    "  \"tag\": \"ATK\"}"
   ]
  },
  {
   "cell_type": "code",
   "execution_count": 66,
   "metadata": {},
   "outputs": [],
   "source": [
    "if dic[\"tag\"] == \"ATk\":\n",
    "      print(\"waliu\")"
   ]
  },
  {
   "cell_type": "code",
   "execution_count": null,
   "metadata": {},
   "outputs": [],
   "source": []
  },
  {
   "cell_type": "code",
   "execution_count": 37,
   "metadata": {},
   "outputs": [
    {
     "data": {
      "text/plain": [
       "444"
      ]
     },
     "execution_count": 37,
     "metadata": {},
     "output_type": "execute_result"
    }
   ],
   "source": [
    "num = 123\n",
    "num2 = 321\n"
   ]
  },
  {
   "cell_type": "code",
   "execution_count": 28,
   "metadata": {},
   "outputs": [
    {
     "data": {
      "text/plain": [
       "['123321']"
      ]
     },
     "execution_count": 28,
     "metadata": {},
     "output_type": "execute_result"
    }
   ],
   "source": [
    "all.split( \" \")"
   ]
  },
  {
   "cell_type": "code",
   "execution_count": 24,
   "metadata": {},
   "outputs": [
    {
     "data": {
      "text/plain": [
       "[123321, 123321, 123321, 123321, 123321, 123321]"
      ]
     },
     "execution_count": 24,
     "metadata": {},
     "output_type": "execute_result"
    }
   ],
   "source": [
    "gen =  []\n",
    "\n",
    "array =  str(123)\n",
    "for i in all:\n",
    "    gen.append(int(all))\n",
    "gen"
   ]
  },
  {
   "cell_type": "code",
   "execution_count": 219,
   "metadata": {},
   "outputs": [
    {
     "data": {
      "text/plain": [
       "16"
      ]
     },
     "execution_count": 219,
     "metadata": {},
     "output_type": "execute_result"
    }
   ],
   "source": [
    "array1 = [543,279]\n",
    "array2 = [123,321]\n",
    "def move(array1,array2):\n",
    "    num = array1[0]\n",
    "    num2 = array1[1] \n",
    "    val = array2[0]\n",
    "    val2 = array2[1] \n",
    "    x = [int(a) for a in str(num)]\n",
    "    b =  [int(a) for a in str(num2)]\n",
    "    y = [int(a) for a in str(val)]\n",
    "    c =  [int(a) for a in str(val2)]\n",
    "    return (sum(list((abs(x[0] - b[0]), abs(x[1]-b[1]),abs(x[2]-b[2]))))) + (sum(list((abs(y[0] - c[0]), abs(y[1]-c[1]),abs(y[2]-c[2])))))\n",
    "move(array1,array2)"
   ]
  },
  {
   "cell_type": "code",
   "execution_count": 109,
   "metadata": {},
   "outputs": [
    {
     "data": {
      "text/plain": [
       "16"
      ]
     },
     "execution_count": 109,
     "metadata": {},
     "output_type": "execute_result"
    }
   ],
   "source": [
    "move(array1,array2)"
   ]
  },
  {
   "cell_type": "code",
   "execution_count": 218,
   "metadata": {},
   "outputs": [
    {
     "name": "stdout",
     "output_type": "stream",
     "text": [
      "12\n"
     ]
    }
   ],
   "source": [
    "array1 = [543,279]\n",
    "array2 = [123,321]\n",
    "\n",
    "num = array1[0]\n",
    "num2 = array1[1] \n",
    "val = array2[0]\n",
    "val2 = array2[1] \n",
    "x = [int(a) for a in str(num)]\n",
    "b =  [int(a) for a in str(num2)]\n",
    "y = [int(a) for a in str(val)]\n",
    "c =  [int(a) for a in str(val2)]\n",
    "print(sum(list((abs(x[0] - b[0]), abs(x[1]-b[1]),abs(x[2]-b[2])))))"
   ]
  },
  {
   "cell_type": "code",
   "execution_count": 67,
   "metadata": {},
   "outputs": [
    {
     "data": {
      "text/plain": [
       "4"
      ]
     },
     "execution_count": 67,
     "metadata": {},
     "output_type": "execute_result"
    }
   ],
   "source": [
    "array1 = [543,279]"
   ]
  },
  {
   "cell_type": "code",
   "execution_count": 103,
   "metadata": {},
   "outputs": [
    {
     "data": {
      "text/plain": [
       "543"
      ]
     },
     "execution_count": 103,
     "metadata": {},
     "output_type": "execute_result"
    }
   ],
   "source": [
    "array1[0]"
   ]
  },
  {
   "cell_type": "code",
   "execution_count": 60,
   "metadata": {},
   "outputs": [
    {
     "data": {
      "text/plain": [
       "(3, 2, 1)"
      ]
     },
     "execution_count": 60,
     "metadata": {},
     "output_type": "execute_result"
    }
   ],
   "source": []
  },
  {
   "cell_type": "code",
   "execution_count": 47,
   "metadata": {},
   "outputs": [
    {
     "data": {
      "text/plain": [
       "3"
      ]
     },
     "execution_count": 47,
     "metadata": {},
     "output_type": "execute_result"
    }
   ],
   "source": [
    "x[0]+2"
   ]
  },
  {
   "cell_type": "code",
   "execution_count": 48,
   "metadata": {},
   "outputs": [
    {
     "data": {
      "text/plain": [
       "2"
      ]
     },
     "execution_count": 48,
     "metadata": {},
     "output_type": "execute_result"
    }
   ],
   "source": [
    "x[1]+0"
   ]
  },
  {
   "cell_type": "code",
   "execution_count": 50,
   "metadata": {},
   "outputs": [
    {
     "data": {
      "text/plain": [
       "1"
      ]
     },
     "execution_count": 50,
     "metadata": {},
     "output_type": "execute_result"
    }
   ],
   "source": [
    "x[2]-2"
   ]
  },
  {
   "cell_type": "code",
   "execution_count": 200,
   "metadata": {},
   "outputs": [
    {
     "name": "stdout",
     "output_type": "stream",
     "text": [
      "[1, 1, 2, 2, 3]\n"
     ]
    }
   ],
   "source": [
    "a = [1,2,3,4]\n",
    "b = [2,3]\n",
    "out = []\n",
    "for c in a :\n",
    "    for d in range(2):\n",
    "        if c <= b[d]:\n",
    "            out.append(c)\n",
    "print(out)\n",
    "    "
   ]
  },
  {
   "cell_type": "code",
   "execution_count": 149,
   "metadata": {},
   "outputs": [
    {
     "name": "stdout",
     "output_type": "stream",
     "text": [
      "1\n",
      "2\n",
      "3\n",
      "4\n"
     ]
    }
   ],
   "source": [
    "a = [1,2,3,4]\n",
    "b = [2,3]\n",
    "for c in a :\n",
    "    print(c)"
   ]
  },
  {
   "cell_type": "code",
   "execution_count": 201,
   "metadata": {},
   "outputs": [
    {
     "name": "stdout",
     "output_type": "stream",
     "text": [
      "[2, 3]\n"
     ]
    }
   ],
   "source": [
    "def counts(teamA, teamB):\n",
    "    answer = []\n",
    "    teamA.sort()    \n",
    "    for score in teamB:\n",
    "        low, high = 0, len(teamA) - 1\n",
    "        while low <= high:\n",
    "            mid = (low + high) // 2\n",
    "            if teamA[mid] > score:\n",
    "                high = mid - 1\n",
    "            else:\n",
    "                low = mid + 1\n",
    "        answer.append(low)\n",
    "\n",
    "    return answer\n",
    "\n",
    "l1 = [1,2,3]\n",
    "l2 = [2,4]\n",
    "\n",
    "print(counts(l1, l2))"
   ]
  },
  {
   "cell_type": "code",
   "execution_count": 208,
   "metadata": {},
   "outputs": [
    {
     "name": "stdout",
     "output_type": "stream",
     "text": [
      "[0, 1, 3, 4]\n"
     ]
    }
   ],
   "source": [
    "def foot(teamA, teamB):\n",
    "    adic = Counter(teamA)\n",
    "    bdic = Counter(teamB)\n",
    "\n",
    "    res = []\n",
    "    sortedteams = []\n",
    "    for i in teamA:\n",
    "        sortedteams.append(i)\n",
    "    for j in teamB:\n",
    "        if j not in adic:\n",
    "            sortedteams.append(j)\n",
    "\n",
    "    sortedteams.sort()\n",
    "    count = 0\n",
    "\n",
    "    for n in sortedteams:\n",
    "        if n in adic:\n",
    "            count += 1\n",
    "        if n in bdic:\n",
    "            res.append(count)\n",
    "\n",
    "    return res\n",
    "\n",
    "print(foot([2, 10, 5, 4, 8], [3, 1, 7, 8]))"
   ]
  },
  {
   "cell_type": "code",
   "execution_count": 206,
   "metadata": {},
   "outputs": [],
   "source": []
  },
  {
   "cell_type": "code",
   "execution_count": 207,
   "metadata": {},
   "outputs": [
    {
     "data": {
      "text/plain": [
       "(Counter({1: 1, 2: 1, 3: 1, 4: 1}), Counter({2: 1, 3: 1}))"
      ]
     },
     "execution_count": 207,
     "metadata": {},
     "output_type": "execute_result"
    }
   ],
   "source": [
    "a1,a2"
   ]
  },
  {
   "cell_type": "code",
   "execution_count": 212,
   "metadata": {},
   "outputs": [],
   "source": [
    "a = list({1,2,9,1,2,3,1,4,1,5,7}).sort()"
   ]
  },
  {
   "cell_type": "code",
   "execution_count": 216,
   "metadata": {},
   "outputs": [],
   "source": [
    "a =list({1,2,9,1,2,3,1,4,1,5,7})"
   ]
  },
  {
   "cell_type": "code",
   "execution_count": 217,
   "metadata": {},
   "outputs": [
    {
     "data": {
      "text/plain": [
       "[1, 2, 3, 4, 5, 7, 9]"
      ]
     },
     "execution_count": 217,
     "metadata": {},
     "output_type": "execute_result"
    }
   ],
   "source": [
    "a"
   ]
  },
  {
   "cell_type": "code",
   "execution_count": null,
   "metadata": {},
   "outputs": [],
   "source": []
  }
 ],
 "metadata": {
  "kernelspec": {
   "display_name": "Python 3 (ipykernel)",
   "language": "python",
   "name": "python3"
  },
  "language_info": {
   "codemirror_mode": {
    "name": "ipython",
    "version": 3
   },
   "file_extension": ".py",
   "mimetype": "text/x-python",
   "name": "python",
   "nbconvert_exporter": "python",
   "pygments_lexer": "ipython3",
   "version": "3.9.12"
  },
  "vscode": {
   "interpreter": {
    "hash": "dcbbb850fa788a389b82cdd87adc797436ec9e60e6bd10e292178bc6f3a28219"
   }
  }
 },
 "nbformat": 4,
 "nbformat_minor": 4
}
