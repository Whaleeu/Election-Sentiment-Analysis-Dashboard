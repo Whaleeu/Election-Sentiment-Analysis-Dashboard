{
 "cells": [
  {
   "cell_type": "code",
   "execution_count": 87,
   "metadata": {},
   "outputs": [],
   "source": [
    "from dotenv import load_dotenv\n",
    "import os\n",
    "from kafka import KafkaProducer, KafkaConsumer\n",
    "import pandas as pd \n",
    "import json\n",
    "from IPython.display import display\n",
    "pd.set_option('display.max_columns', 65)\n",
    "pd.set_option('display.max_rows', 100)\n",
    "from textblob import TextBlob\n",
    "from vaderSentiment.vaderSentiment import SentimentIntensityAnalyzer\n",
    "import time\n",
    "\n",
    "\n",
    "load_dotenv()\n",
    "token = os.environ.get(\"bearer_token\")\n",
    "\n",
    "def Consumer(Topic_name):\n",
    "    text_list = []\n",
    "    consume =  KafkaConsumer(Topic_name,bootstrap_servers=\"localhost:9092\",value_deserializer=lambda k : k.decode(\"utf-8\") )\n",
    "    for message in consume:\n",
    "        print(message)\n",
    "        output = message.value\n",
    "        print(type(output.strip(\"'\")))\n",
    "        print(output[\"tweet\"])\n",
    "        blob = TextBlob(message.value[\"tweet\"])\n",
    "        pre = blob.sentiment.polarity\n",
    "        print(pre)\n",
    "        df = pd.DataFrame([{\"tweet\":message.value,\"sentiment\": pre,\"Candidate\": message.value[\"tag\"]}])\n",
    "        return df\n",
    "#Consumer(\"TutorialTopic\")"
   ]
  },
  {
   "cell_type": "code",
   "execution_count": 88,
   "metadata": {},
   "outputs": [
    {
     "name": "stdout",
     "output_type": "stream",
     "text": [
      "ConsumerRecord(topic='TutorialTopic', partition=0, offset=4123, timestamp=1663773924068, timestamp_type=0, key=None, value='{\\n  \"tweet\": \"RT @Eloka51: Is Atiku forcing Keke\\\\u2019s in Adamawa to paste his stickers? Is Peter Obi forcing Keke\\\\u2019s in Anambra to paste his stickers? People\\\\u2026\",\\n  \"tag\": \"ATK\"\\n}', headers=[], checksum=None, serialized_key_size=-1, serialized_value_size=188, serialized_header_size=-1)\n",
      "<class 'str'>\n"
     ]
    },
    {
     "ename": "TypeError",
     "evalue": "string indices must be integers",
     "output_type": "error",
     "traceback": [
      "\u001b[1;31m---------------------------------------------------------------------------\u001b[0m",
      "\u001b[1;31mTypeError\u001b[0m                                 Traceback (most recent call last)",
      "\u001b[1;32mc:\\Users\\waliulahi\\Election Sentiment Dashboard\\Election-Sentiment-Analysis-Dashboard\\testing.ipynb Cell 2\u001b[0m in \u001b[0;36m<cell line: 2>\u001b[1;34m()\u001b[0m\n\u001b[0;32m      <a href='vscode-notebook-cell:/c%3A/Users/waliulahi/Election%20Sentiment%20Dashboard/Election-Sentiment-Analysis-Dashboard/testing.ipynb#X10sZmlsZQ%3D%3D?line=0'>1</a>\u001b[0m \u001b[39mwhile\u001b[39;00m \u001b[39mTrue\u001b[39;00m:\n\u001b[1;32m----> <a href='vscode-notebook-cell:/c%3A/Users/waliulahi/Election%20Sentiment%20Dashboard/Election-Sentiment-Analysis-Dashboard/testing.ipynb#X10sZmlsZQ%3D%3D?line=1'>2</a>\u001b[0m     display(Consumer(\u001b[39m\"\u001b[39;49m\u001b[39mTutorialTopic\u001b[39;49m\u001b[39m\"\u001b[39;49m))\n\u001b[0;32m      <a href='vscode-notebook-cell:/c%3A/Users/waliulahi/Election%20Sentiment%20Dashboard/Election-Sentiment-Analysis-Dashboard/testing.ipynb#X10sZmlsZQ%3D%3D?line=2'>3</a>\u001b[0m     time\u001b[39m.\u001b[39msleep(\u001b[39m5\u001b[39m)\n",
      "\u001b[1;32mc:\\Users\\waliulahi\\Election Sentiment Dashboard\\Election-Sentiment-Analysis-Dashboard\\testing.ipynb Cell 2\u001b[0m in \u001b[0;36mConsumer\u001b[1;34m(Topic_name)\u001b[0m\n\u001b[0;32m     <a href='vscode-notebook-cell:/c%3A/Users/waliulahi/Election%20Sentiment%20Dashboard/Election-Sentiment-Analysis-Dashboard/testing.ipynb#X10sZmlsZQ%3D%3D?line=21'>22</a>\u001b[0m output \u001b[39m=\u001b[39m message\u001b[39m.\u001b[39mvalue\n\u001b[0;32m     <a href='vscode-notebook-cell:/c%3A/Users/waliulahi/Election%20Sentiment%20Dashboard/Election-Sentiment-Analysis-Dashboard/testing.ipynb#X10sZmlsZQ%3D%3D?line=22'>23</a>\u001b[0m \u001b[39mprint\u001b[39m(\u001b[39mtype\u001b[39m(output\u001b[39m.\u001b[39mstrip(\u001b[39m\"\u001b[39m\u001b[39m'\u001b[39m\u001b[39m\"\u001b[39m)))\n\u001b[1;32m---> <a href='vscode-notebook-cell:/c%3A/Users/waliulahi/Election%20Sentiment%20Dashboard/Election-Sentiment-Analysis-Dashboard/testing.ipynb#X10sZmlsZQ%3D%3D?line=23'>24</a>\u001b[0m \u001b[39mprint\u001b[39m(output[\u001b[39m\"\u001b[39;49m\u001b[39mtweet\u001b[39;49m\u001b[39m\"\u001b[39;49m])\n\u001b[0;32m     <a href='vscode-notebook-cell:/c%3A/Users/waliulahi/Election%20Sentiment%20Dashboard/Election-Sentiment-Analysis-Dashboard/testing.ipynb#X10sZmlsZQ%3D%3D?line=24'>25</a>\u001b[0m blob \u001b[39m=\u001b[39m TextBlob(message\u001b[39m.\u001b[39mvalue[\u001b[39m\"\u001b[39m\u001b[39mtweet\u001b[39m\u001b[39m\"\u001b[39m])\n\u001b[0;32m     <a href='vscode-notebook-cell:/c%3A/Users/waliulahi/Election%20Sentiment%20Dashboard/Election-Sentiment-Analysis-Dashboard/testing.ipynb#X10sZmlsZQ%3D%3D?line=25'>26</a>\u001b[0m pre \u001b[39m=\u001b[39m blob\u001b[39m.\u001b[39msentiment\u001b[39m.\u001b[39mpolarity\n",
      "\u001b[1;31mTypeError\u001b[0m: string indices must be integers"
     ]
    }
   ],
   "source": [
    "while True:\n",
    "    display(Consumer(\"TutorialTopic\"))\n",
    "    time.sleep(5)"
   ]
  },
  {
   "cell_type": "markdown",
   "metadata": {},
   "source": []
  },
  {
   "cell_type": "code",
   "execution_count": 28,
   "metadata": {},
   "outputs": [
    {
     "name": "stdout",
     "output_type": "stream",
     "text": [
      "<class 'str'>\n",
      "{\n",
      "  \"tweet\": \"RT @iamUncleMark: Dear Ayu, please do not resign. We don't won't Wike in Atiku's campaign council. https://t.co/r5dsDFkWlx\",\n",
      "  \"tag\": \"ATK\"\n",
      "}\n"
     ]
    },
    {
     "ename": "TypeError",
     "evalue": "string indices must be integers",
     "output_type": "error",
     "traceback": [
      "\u001b[1;31m---------------------------------------------------------------------------\u001b[0m",
      "\u001b[1;31mTypeError\u001b[0m                                 Traceback (most recent call last)",
      "\u001b[1;32mc:\\Users\\waliulahi\\Election Sentiment Dashboard\\Election-Sentiment-Analysis-Dashboard\\testing.ipynb Cell 4\u001b[0m in \u001b[0;36m<cell line: 2>\u001b[1;34m()\u001b[0m\n\u001b[0;32m      <a href='vscode-notebook-cell:/c%3A/Users/waliulahi/Election%20Sentiment%20Dashboard/Election-Sentiment-Analysis-Dashboard/testing.ipynb#W2sZmlsZQ%3D%3D?line=0'>1</a>\u001b[0m \u001b[39mwhile\u001b[39;00m \u001b[39mTrue\u001b[39;00m:\n\u001b[1;32m----> <a href='vscode-notebook-cell:/c%3A/Users/waliulahi/Election%20Sentiment%20Dashboard/Election-Sentiment-Analysis-Dashboard/testing.ipynb#W2sZmlsZQ%3D%3D?line=1'>2</a>\u001b[0m     display(Consumer(\u001b[39m\"\u001b[39;49m\u001b[39mTutorialTopic\u001b[39;49m\u001b[39m\"\u001b[39;49m))\n\u001b[0;32m      <a href='vscode-notebook-cell:/c%3A/Users/waliulahi/Election%20Sentiment%20Dashboard/Election-Sentiment-Analysis-Dashboard/testing.ipynb#W2sZmlsZQ%3D%3D?line=2'>3</a>\u001b[0m     time\u001b[39m.\u001b[39msleep(\u001b[39m5\u001b[39m)\n",
      "\u001b[1;32mc:\\Users\\waliulahi\\Election Sentiment Dashboard\\Election-Sentiment-Analysis-Dashboard\\testing.ipynb Cell 4\u001b[0m in \u001b[0;36mConsumer\u001b[1;34m(Topic_name)\u001b[0m\n\u001b[0;32m     <a href='vscode-notebook-cell:/c%3A/Users/waliulahi/Election%20Sentiment%20Dashboard/Election-Sentiment-Analysis-Dashboard/testing.ipynb#W2sZmlsZQ%3D%3D?line=20'>21</a>\u001b[0m \u001b[39mprint\u001b[39m(\u001b[39mtype\u001b[39m(message\u001b[39m.\u001b[39mvalue))\n\u001b[0;32m     <a href='vscode-notebook-cell:/c%3A/Users/waliulahi/Election%20Sentiment%20Dashboard/Election-Sentiment-Analysis-Dashboard/testing.ipynb#W2sZmlsZQ%3D%3D?line=21'>22</a>\u001b[0m \u001b[39mprint\u001b[39m(message\u001b[39m.\u001b[39mvalue)\n\u001b[1;32m---> <a href='vscode-notebook-cell:/c%3A/Users/waliulahi/Election%20Sentiment%20Dashboard/Election-Sentiment-Analysis-Dashboard/testing.ipynb#W2sZmlsZQ%3D%3D?line=22'>23</a>\u001b[0m blob \u001b[39m=\u001b[39m TextBlob(message\u001b[39m.\u001b[39;49mvalue[\u001b[39m\"\u001b[39;49m\u001b[39mtweet\u001b[39;49m\u001b[39m\"\u001b[39;49m])\n\u001b[0;32m     <a href='vscode-notebook-cell:/c%3A/Users/waliulahi/Election%20Sentiment%20Dashboard/Election-Sentiment-Analysis-Dashboard/testing.ipynb#W2sZmlsZQ%3D%3D?line=23'>24</a>\u001b[0m pre \u001b[39m=\u001b[39m blob\u001b[39m.\u001b[39msentiment\u001b[39m.\u001b[39mpolarity\n\u001b[0;32m     <a href='vscode-notebook-cell:/c%3A/Users/waliulahi/Election%20Sentiment%20Dashboard/Election-Sentiment-Analysis-Dashboard/testing.ipynb#W2sZmlsZQ%3D%3D?line=24'>25</a>\u001b[0m \u001b[39mprint\u001b[39m(pre)\n",
      "\u001b[1;31mTypeError\u001b[0m: string indices must be integers"
     ]
    }
   ],
   "source": [
    "while True:\n",
    "    display(Consumer(\"TutorialTopic\"))\n",
    "    time.sleep(5)"
   ]
  },
  {
   "cell_type": "code",
   "execution_count": 1,
   "metadata": {},
   "outputs": [],
   "source": [
    "from vaderSentiment.vaderSentiment import SentimentIntensityAnalyzer"
   ]
  },
  {
   "cell_type": "code",
   "execution_count": 18,
   "metadata": {},
   "outputs": [
    {
     "data": {
      "text/plain": [
       "-0.2787"
      ]
     },
     "execution_count": 18,
     "metadata": {},
     "output_type": "execute_result"
    }
   ],
   "source": [
    "sid_obj= SentimentIntensityAnalyzer()\n",
    "a = sid_obj.polarity_scores(\"PDP isn’t’t worried that INEC is getting compromised. PDP not worried that Tinubu has many skeleton in his cupboard. PDP not worried that Tinubu is refusing to have a media interview. PDP is banking on d 90% northerns that Atiku said are not on social media, to demarket @PeterObi\")\n",
    "a[\"compound\"]"
   ]
  },
  {
   "cell_type": "code",
   "execution_count": 62,
   "metadata": {},
   "outputs": [],
   "source": [
    "\n",
    "dic = {\n",
    "  \"tweet\": \"RT @Monnyx4: @Jack_ng01 Show me your friends and I will show you your future, you're who you hang out with. \\nThese are the kinds of people\\u2026\",\n",
    "  \"tag\": \"ATK\"}"
   ]
  },
  {
   "cell_type": "code",
   "execution_count": 66,
   "metadata": {},
   "outputs": [],
   "source": [
    "if dic[\"tag\"] == \"ATk\":\n",
    "      print(\"waliu\")"
   ]
  }
 ],
 "metadata": {
  "kernelspec": {
   "display_name": "Python 3.9.12 ('base')",
   "language": "python",
   "name": "python3"
  },
  "language_info": {
   "codemirror_mode": {
    "name": "ipython",
    "version": 3
   },
   "file_extension": ".py",
   "mimetype": "text/x-python",
   "name": "python",
   "nbconvert_exporter": "python",
   "pygments_lexer": "ipython3",
   "version": "3.9.12"
  },
  "vscode": {
   "interpreter": {
    "hash": "dcbbb850fa788a389b82cdd87adc797436ec9e60e6bd10e292178bc6f3a28219"
   }
  }
 },
 "nbformat": 4,
 "nbformat_minor": 4
}
